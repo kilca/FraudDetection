m = Model(name='FraudGraph')
#x = m.integer_var_matrix(V_Range, E_Range, lambda ij: "x_%d_%d" %(ij[0], ij[1]))
x = m.continuous_var_dict(vals,lb=0,name='x')

#x = m.continuous_var_matrix(V_NB, E_NB, lambda ij: "x_%d_%d" %(ij[0], ij[1]))
y = m.continuous_var_list(valsy,lb=0, name='y')  #,key_format=lambda i: "x_%d" %(i[0]))

#y = m.continuous_var_list(valsy,lb=0,name="y")

c1 = m.add_constraints(x[(i,j)] <=y[i] for (i,j) in x)
c2 = m.add_constraints(x[(i,j)] <=y[j] for (i,j) in x)

#A check si pas m.sum
c3 = m.add_constraint( np.sum(y) <= 1)
#c3 = m.add_constraint( m.sum(y[i] <= 1 for i in V_Range))


#Deux condition fait par ub et lb
#c4 = m.add_constraint( y[i] >= 0 for i in V_Range)
#c5 = m.add_constraint( x[i,j] >= 0 for i in V_Range for j in E_Range)

#m.set_objective("min", 3*x)
m.maximize( m.sum(x[(i,j)] for (i,j) in x))


m.print_information()
m.solve()
m.print_solution(print_zeros=False)