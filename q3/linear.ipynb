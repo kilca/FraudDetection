{
 "cells": [
  {
   "cell_type": "markdown",
   "metadata": {},
   "source": [
    "# 3.1 Linear"
   ]
  },
  {
   "cell_type": "code",
   "execution_count": 44,
   "metadata": {},
   "outputs": [],
   "source": [
    "from docplex.mp.model import Model\n",
    "from docplex.mp.environment import Environment\n",
    "import numpy as np\n",
    "from random import randrange"
   ]
  },
  {
   "cell_type": "markdown",
   "metadata": {},
   "source": [
    "### Import du fichier"
   ]
  },
  {
   "cell_type": "code",
   "execution_count": 45,
   "metadata": {},
   "outputs": [],
   "source": [
    "def fillUntilIndex(val, ind):\n",
    "    while(len(val) < int(ind)+1):\n",
    "        val.append(0)"
   ]
  },
  {
   "cell_type": "code",
   "execution_count": 83,
   "metadata": {},
   "outputs": [],
   "source": [
    "xdata = {}\n",
    "\n",
    "maxCount = 100\n",
    "count = 0\n",
    "with open('../data_in/Amazon0302.txt','r') as file:\n",
    "    for line in file:\n",
    "        count = count +1\n",
    "        if (count > maxCount):\n",
    "            break\n",
    "        a,b = line.split(\" \")\n",
    "        try:\n",
    "            xdata[(int(a),int(b))] = randrange(5)\n",
    "        except Exception as e:\n",
    "            print(e)\n",
    "            '''\n",
    "            print(a,\"/\",b)\n",
    "            print(\"line:\",line)\n",
    "            '''"
   ]
  },
  {
   "cell_type": "code",
   "execution_count": 84,
   "metadata": {},
   "outputs": [
    {
     "name": "stdout",
     "output_type": "stream",
     "text": [
      "290\n"
     ]
    },
    {
     "data": {
      "text/plain": [
       "'for (a,b) in xdata:\\n    ydata[a] = randrange(5)\\n    ydata[b] = randrange(5)\\n'"
      ]
     },
     "execution_count": 84,
     "metadata": {},
     "output_type": "execute_result"
    }
   ],
   "source": [
    "max = -1\n",
    "for (a,b) in xdata:\n",
    "    if (a > max):\n",
    "        max = a\n",
    "    if (b > max):\n",
    "        max = b\n",
    "print(max)\n",
    "#ydata = [0 for e in range(0,max+1)]\n",
    "ydata = [e for e in range(0,max+1)]\n",
    "'''for (a,b) in xdata:\n",
    "    ydata[a] = randrange(5)\n",
    "    ydata[b] = randrange(5)\n",
    "'''"
   ]
  },
  {
   "cell_type": "markdown",
   "metadata": {},
   "source": [
    "### Code"
   ]
  },
  {
   "cell_type": "code",
   "execution_count": 48,
   "metadata": {},
   "outputs": [],
   "source": [
    "#graph = [(1,3,10),(3,2,20),(2,1,30)]\n",
    "#gy = [20,10,30]\n",
    "#(from,to,val)\n",
    "V_NB = 3\n",
    "E_NB = 3\n",
    "\n",
    "V_Range = range(0,V_NB)\n",
    "E_Range = range(0,E_NB)\n",
    "\n",
    "vals = {}\n",
    "vals[(0,2)] = 10\n",
    "vals[(2,1)] = 20\n",
    "vals[(1,0)] = 30\n",
    "\n",
    "#valsy = [0 for e in V_Range]\n",
    "valsy = [e for e in V_Range]"
   ]
  },
  {
   "cell_type": "code",
   "execution_count": 70,
   "metadata": {},
   "outputs": [],
   "source": [
    "#Graphe étoile\n",
    "V_NB = 7\n",
    "E_NB = 11\n",
    "\n",
    "V_Range = range(0,V_NB)\n",
    "E_Range = range(0,E_NB)\n",
    "\n",
    "vals = {}\n",
    "vals[(0,1)] = 10\n",
    "vals[(0,2)] = 20\n",
    "vals[(0,3)] = 30\n",
    "vals[(0,4)] = 40\n",
    "vals[(1,2)] = 50\n",
    "vals[(1,3)] = 60\n",
    "vals[(1,4)] = 70\n",
    "vals[(2,3)] = 80\n",
    "vals[(2,4)] = 90\n",
    "vals[(2,5)] = 100\n",
    "vals[(3,4)] = 110\n",
    "\n",
    "#valsy = [0 for e in V_Range]\n",
    "valsy = [e for e in V_Range]"
   ]
  },
  {
   "cell_type": "code",
   "execution_count": 85,
   "metadata": {},
   "outputs": [],
   "source": [
    "vals = xdata\n",
    "valsy = ydata"
   ]
  },
  {
   "cell_type": "code",
   "execution_count": 86,
   "metadata": {},
   "outputs": [
    {
     "name": "stdout",
     "output_type": "stream",
     "text": [
      "Model: FraudGraph\n",
      " - number of variables: 391\n",
      "   - binary=0, integer=0, continuous=391\n",
      " - number of constraints: 201\n",
      "   - linear=201\n",
      " - parameters: defaults\n",
      " - objective: maximize\n",
      " - problem type is: LP\n",
      "objective: 2.889\n",
      "  x_0_1=0.056\n",
      "  x_0_2=0.056\n",
      "  x_0_4=0.056\n",
      "  x_0_5=0.056\n",
      "  x_1_0=0.056\n",
      "  x_1_2=0.056\n",
      "  x_1_4=0.056\n",
      "  x_1_5=0.056\n",
      "  x_2_0=0.056\n",
      "  x_2_11=0.056\n",
      "  x_2_13=0.056\n",
      "  x_4_7=0.056\n",
      "  x_4_16=0.056\n",
      "  x_4_17=0.056\n",
      "  x_4_19=0.056\n",
      "  x_5_6=0.056\n",
      "  x_5_7=0.056\n",
      "  x_5_8=0.056\n",
      "  x_5_9=0.056\n",
      "  x_5_10=0.056\n",
      "  x_6_5=0.056\n",
      "  x_6_7=0.056\n",
      "  x_6_8=0.056\n",
      "  x_6_9=0.056\n",
      "  x_6_20=0.056\n",
      "  x_7_5=0.056\n",
      "  x_7_8=0.056\n",
      "  x_7_9=0.056\n",
      "  x_7_30=0.056\n",
      "  x_8_13=0.056\n",
      "  x_8_23=0.056\n",
      "  x_10_5=0.056\n",
      "  x_10_7=0.056\n",
      "  x_11_6=0.056\n",
      "  x_11_9=0.056\n",
      "  x_11_20=0.056\n",
      "  x_13_20=0.056\n",
      "  x_13_23=0.056\n",
      "  x_16_4=0.056\n",
      "  x_16_7=0.056\n",
      "  x_16_19=0.056\n",
      "  x_17_6=0.056\n",
      "  x_17_7=0.056\n",
      "  x_17_8=0.056\n",
      "  x_17_30=0.056\n",
      "  x_19_4=0.056\n",
      "  x_19_16=0.056\n",
      "  x_20_6=0.056\n",
      "  x_20_7=0.056\n",
      "  x_20_8=0.056\n",
      "  x_20_23=0.056\n",
      "  x_20_30=0.056\n",
      "  y_0=0.056\n",
      "  y_1=0.056\n",
      "  y_2=0.056\n",
      "  y_4=0.056\n",
      "  y_5=0.056\n",
      "  y_6=0.056\n",
      "  y_7=0.056\n",
      "  y_8=0.056\n",
      "  y_9=0.056\n",
      "  y_10=0.056\n",
      "  y_11=0.056\n",
      "  y_13=0.056\n",
      "  y_16=0.056\n",
      "  y_17=0.056\n",
      "  y_19=0.056\n",
      "  y_20=0.056\n",
      "  y_23=0.056\n",
      "  y_30=0.056\n"
     ]
    }
   ],
   "source": [
    "def a(i):\n",
    "    return \"y_\"+i\n",
    "\n",
    "m = Model(name='FraudGraph')\n",
    "#x = m.integer_var_matrix(V_Range, E_Range, lambda ij: \"x_%d_%d\" %(ij[0], ij[1]))\n",
    "x = m.continuous_var_dict(vals,lb=0,name='x')\n",
    "\n",
    "#x = m.continuous_var_matrix(V_NB, E_NB, lambda ij: \"x_%d_%d\" %(ij[0], ij[1]))\n",
    "y = m.continuous_var_list(valsy,lb=0, name='y')  #,key_format=lambda i: \"x_%d\" %(i[0]))\n",
    "\n",
    "#y = m.continuous_var_list(valsy,lb=0,name=\"y\")\n",
    "\n",
    "c1 = m.add_constraints(x[(i,j)] <=y[i] for (i,j) in x)\n",
    "c2 = m.add_constraints(x[(i,j)] <=y[j] for (i,j) in x)\n",
    "\n",
    "#A check si pas m.sum\n",
    "c3 = m.add_constraint( np.sum(y) <= 1)\n",
    "#c3 = m.add_constraint( m.sum(y[i] <= 1 for i in V_Range))\n",
    "\n",
    "\n",
    "#Deux condition fait par ub et lb\n",
    "#c4 = m.add_constraint( y[i] >= 0 for i in V_Range)\n",
    "#c5 = m.add_constraint( x[i,j] >= 0 for i in V_Range for j in E_Range)\n",
    "\n",
    "#m.set_objective(\"min\", 3*x)\n",
    "m.maximize( m.sum(x[(i,j)] for (i,j) in x))\n",
    "\n",
    "\n",
    "m.print_information()\n",
    "m.solve()\n",
    "m.print_solution(print_zeros=False)"
   ]
  },
  {
   "cell_type": "code",
   "execution_count": 98,
   "metadata": {},
   "outputs": [
    {
     "data": {
      "image/png": "[encoded data removed]",
      "text/plain": [
       "<Figure size 432x288 with 1 Axes>"
      ]
     },
     "metadata": {},
     "output_type": "display_data"
    }
   ],
   "source": [
    "import networkx as nx\n",
    "import matplotlib.pyplot as plt\n",
    "\n",
    "G = nx.DiGraph()\n",
    "#G.add_edges_from(\n",
    "#    [('A', 'B'), ('A', 'C'), ('D', 'B'), ('E', 'C'), ('E', 'F'),\n",
    "#     ('B', 'H'), ('B', 'G'), ('B', 'F'), ('C', 'G')])\n",
    "nodes = [e for e in vals]\n",
    "\n",
    "G.add_edges_from(nodes)\n",
    "'''\n",
    "val_map = {'A': 1.0,\n",
    "           'D': 0.5714285714285714,\n",
    "           'H': 0.0}\n",
    "\n",
    "values = [val_map.get(node, 0.25) for node in G.nodes()]\n",
    "'''\n",
    "black_edges = [edge for edge in G.edges()]\n",
    "\n",
    "# Need to create a layout when doing\n",
    "# separate calls to draw nodes and edges\n",
    "pos = nx.spring_layout(G,k=0.5, iterations=20)\n",
    "nx.draw_networkx_nodes(G, pos, cmap=plt.get_cmap('jet'), node_size = 500)\n",
    "nx.draw_networkx_labels(G, pos)\n",
    "nx.draw_networkx_edges(G, pos, edgelist=black_edges, arrows=False)\n",
    "plt.show()"
   ]
  }
 ],
 "metadata": {
  "interpreter": {
   "hash": "a4e0272d1eda76f48fd2102d45e160b1841ad044681d89fde38422672f30818c"
  },
  "kernelspec": {
   "display_name": "Python 3",
   "language": "python",
   "name": "python3"
  },
  "language_info": {
   "codemirror_mode": {
    "name": "ipython",
    "version": 3
   },
   "file_extension": ".py",
   "mimetype": "text/x-python",
   "name": "python",
   "nbconvert_exporter": "python",
   "pygments_lexer": "ipython3",
   "version": "3.8.3"
  }
 },
 "nbformat": 4,
 "nbformat_minor": 2
}
