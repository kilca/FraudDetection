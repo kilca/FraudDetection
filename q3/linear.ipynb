{
 "cells": [
  {
   "cell_type": "markdown",
   "metadata": {},
   "source": [
    "# 3.1 Linear"
   ]
  },
  {
   "cell_type": "code",
   "execution_count": 9,
   "metadata": {},
   "outputs": [],
   "source": [
    "from docplex.mp.model import Model\n",
    "from docplex.mp.environment import Environment\n",
    "import numpy as np\n",
    "from random import randrange"
   ]
  },
  {
   "cell_type": "markdown",
   "metadata": {},
   "source": [
    "### Import du fichier"
   ]
  },
  {
   "cell_type": "code",
   "execution_count": 10,
   "metadata": {},
   "outputs": [],
   "source": [
    "def fillUntilIndex(val, ind):\n",
    "    while(len(val) < int(ind)+1):\n",
    "        val.append(0)"
   ]
  },
  {
   "cell_type": "code",
   "execution_count": 51,
   "metadata": {},
   "outputs": [],
   "source": [
    "xdata = {}\n",
    "\n",
    "maxCount = 400\n",
    "count = 0\n",
    "with open('../data_in/Amazon0302.txt','r') as file:\n",
    "    for line in file:\n",
    "        count = count +1\n",
    "        if (count > maxCount):\n",
    "            break\n",
    "        a,b = line.split(\" \")\n",
    "        try:\n",
    "            xdata[(int(a),int(b))] = randrange(5)\n",
    "        except Exception as e:\n",
    "            print(e)\n",
    "            '''\n",
    "            print(a,\"/\",b)\n",
    "            print(\"line:\",line)\n",
    "            '''"
   ]
  },
  {
   "cell_type": "code",
   "execution_count": 52,
   "metadata": {},
   "outputs": [
    {
     "name": "stdout",
     "output_type": "stream",
     "text": [
      "426\n"
     ]
    },
    {
     "data": {
      "text/plain": [
       "'for (a,b) in xdata:\\n    ydata[a] = randrange(5)\\n    ydata[b] = randrange(5)\\n'"
      ]
     },
     "execution_count": 52,
     "metadata": {},
     "output_type": "execute_result"
    }
   ],
   "source": [
    "max = -1\n",
    "for (a,b) in xdata:\n",
    "    if (a > max):\n",
    "        max = a\n",
    "    if (b > max):\n",
    "        max = b\n",
    "print(max)\n",
    "#ydata = [0 for e in range(0,max+1)]\n",
    "ydata = [e for e in range(0,max+1)]\n",
    "'''for (a,b) in xdata:\n",
    "    ydata[a] = randrange(5)\n",
    "    ydata[b] = randrange(5)\n",
    "'''"
   ]
  },
  {
   "cell_type": "markdown",
   "metadata": {},
   "source": [
    "### Code"
   ]
  },
  {
   "cell_type": "code",
   "execution_count": 53,
   "metadata": {},
   "outputs": [],
   "source": [
    "graph = [(1,3,10),(3,2,20),(2,1,30)]\n",
    "gy = [20,10,30]\n",
    "#(from,to,val)\n",
    "V_NB = 3\n",
    "E_NB = 3\n",
    "\n",
    "V_Range = range(0,V_NB)\n",
    "E_Range = range(0,E_NB)\n",
    "\n",
    "vals = {}\n",
    "vals[(0,2)] = 10\n",
    "vals[(2,1)] = 20\n",
    "vals[(1,0)] = 30\n",
    "\n",
    "#valsy = [0 for e in V_Range]\n",
    "valsy = [e for e in V_Range]"
   ]
  },
  {
   "cell_type": "code",
   "execution_count": 54,
   "metadata": {},
   "outputs": [],
   "source": [
    "vals = xdata\n",
    "valsy = ydata"
   ]
  },
  {
   "cell_type": "code",
   "execution_count": 55,
   "metadata": {},
   "outputs": [
    {
     "name": "stdout",
     "output_type": "stream",
     "text": [
      "Model: FraudGraph\n",
      " - number of variables: 827\n",
      "   - binary=0, integer=0, continuous=827\n",
      " - number of constraints: 801\n",
      "   - linear=801\n",
      " - parameters: defaults\n",
      " - objective: maximize\n",
      " - problem type is: LP\n",
      "objective: 4.667\n",
      "  x_24_40=0.167\n",
      "  x_24_41=0.167\n",
      "  x_24_42=0.167\n",
      "  x_24_43=0.167\n",
      "  x_24_44=0.167\n",
      "  x_40_24=0.167\n",
      "  x_40_41=0.167\n",
      "  x_40_42=0.167\n",
      "  x_40_43=0.167\n",
      "  x_41_24=0.167\n",
      "  x_41_40=0.167\n",
      "  x_41_42=0.167\n",
      "  x_41_43=0.167\n",
      "  x_41_44=0.167\n",
      "  x_42_24=0.167\n",
      "  x_42_40=0.167\n",
      "  x_42_41=0.167\n",
      "  x_42_43=0.167\n",
      "  x_43_24=0.167\n",
      "  x_43_40=0.167\n",
      "  x_43_41=0.167\n",
      "  x_43_42=0.167\n",
      "  x_43_44=0.167\n",
      "  x_44_24=0.167\n",
      "  x_44_40=0.167\n",
      "  x_44_41=0.167\n",
      "  x_44_42=0.167\n",
      "  x_44_43=0.167\n",
      "  y_24=0.167\n",
      "  y_40=0.167\n",
      "  y_41=0.167\n",
      "  y_42=0.167\n",
      "  y_43=0.167\n",
      "  y_44=0.167\n"
     ]
    }
   ],
   "source": [
    "def a(i):\n",
    "    return \"y_\"+i\n",
    "\n",
    "m = Model(name='FraudGraph')\n",
    "#x = m.integer_var_matrix(V_Range, E_Range, lambda ij: \"x_%d_%d\" %(ij[0], ij[1]))\n",
    "x = m.continuous_var_dict(vals,lb=0,name='x')\n",
    "\n",
    "#x = m.continuous_var_matrix(V_NB, E_NB, lambda ij: \"x_%d_%d\" %(ij[0], ij[1]))\n",
    "y = m.continuous_var_list(valsy,lb=0, name='y')  #,key_format=lambda i: \"x_%d\" %(i[0]))\n",
    "\n",
    "#y = m.continuous_var_list(valsy,lb=0,name=\"y\")\n",
    "\n",
    "c1 = m.add_constraints(x[(i,j)] <=y[i] for (i,j) in x)\n",
    "c2 = m.add_constraints(x[(i,j)] <=y[j] for (i,j) in x)\n",
    "\n",
    "#A check si pas m.sum\n",
    "c3 = m.add_constraint( np.sum(y) <= 1)\n",
    "#c3 = m.add_constraint( m.sum(y[i] <= 1 for i in V_Range))\n",
    "\n",
    "\n",
    "#Deux condition fait par ub et lb\n",
    "#c4 = m.add_constraint( y[i] >= 0 for i in V_Range)\n",
    "#c5 = m.add_constraint( x[i,j] >= 0 for i in V_Range for j in E_Range)\n",
    "\n",
    "#m.set_objective(\"min\", 3*x)\n",
    "m.maximize( m.sum(x[(i,j)] for (i,j) in x))\n",
    "\n",
    "\n",
    "m.print_information()\n",
    "m.solve()\n",
    "m.print_solution()"
   ]
  },
  {
   "cell_type": "code",
   "execution_count": 19,
   "metadata": {},
   "outputs": [
    {
     "name": "stdout",
     "output_type": "stream",
     "text": [
      "{(0, 2): docplex.mp.Var(type=C,name='x_0_2'), (2, 1): docplex.mp.Var(type=C,name='x_2_1'), (1, 0): docplex.mp.Var(type=C,name='x_1_0')}\n",
      "{(0, 2): 10, (2, 1): 20, (1, 0): 30}\n"
     ]
    }
   ],
   "source": [
    "print(x)\n",
    "print(vals)"
   ]
  },
  {
   "cell_type": "code",
   "execution_count": null,
   "metadata": {},
   "outputs": [],
   "source": []
  }
 ],
 "metadata": {
  "interpreter": {
   "hash": "a4e0272d1eda76f48fd2102d45e160b1841ad044681d89fde38422672f30818c"
  },
  "kernelspec": {
   "display_name": "Python 3",
   "language": "python",
   "name": "python3"
  },
  "language_info": {
   "codemirror_mode": {
    "name": "ipython",
    "version": 3
   },
   "file_extension": ".py",
   "mimetype": "text/x-python",
   "name": "python",
   "nbconvert_exporter": "python",
   "pygments_lexer": "ipython3",
   "version": "3.8.5"
  }
 },
 "nbformat": 4,
 "nbformat_minor": 2
}
