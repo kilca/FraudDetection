{
 "cells": [
  {
   "cell_type": "markdown",
   "metadata": {},
   "source": [
    "# 3.1 Linear"
   ]
  },
  {
   "cell_type": "code",
   "execution_count": 74,
   "metadata": {},
   "outputs": [],
   "source": [
    "from docplex.mp.model import Model\n",
    "from docplex.mp.environment import Environment\n",
    "import numpy as np\n",
    "from random import randrange"
   ]
  },
  {
   "cell_type": "markdown",
   "metadata": {},
   "source": [
    "### Import du fichier"
   ]
  },
  {
   "cell_type": "code",
   "execution_count": 75,
   "metadata": {},
   "outputs": [],
   "source": [
    "def fillUntilIndex(val, ind):\n",
    "    while(len(val) < int(ind)+1):\n",
    "        val.append(0)"
   ]
  },
  {
   "cell_type": "code",
   "execution_count": 76,
   "metadata": {},
   "outputs": [],
   "source": [
    "xdata = {}\n",
    "\n",
    "maxCount = 100\n",
    "count = 0\n",
    "with open('../data_in/Amazon0302.txt','r') as file:\n",
    "    for line in file:\n",
    "        count = count +1\n",
    "        if (count > maxCount):\n",
    "            break\n",
    "        a,b = line.split(\" \")\n",
    "        try:\n",
    "            xdata[(int(a),int(b))] = randrange(5)\n",
    "        except Exception as e:\n",
    "            print(e)\n",
    "            '''\n",
    "            print(a,\"/\",b)\n",
    "            print(\"line:\",line)\n",
    "            '''"
   ]
  },
  {
   "cell_type": "code",
   "execution_count": 77,
   "metadata": {},
   "outputs": [],
   "source": [
    "max = -1\n",
    "for (a,b) in xdata:\n",
    "    if (a > max):\n",
    "        max = a\n",
    "    if (b > max):\n",
    "        max = b\n",
    "\n",
    "ydata = [0 for e in range(0,max+1)]\n",
    "for (a,b) in xdata:\n",
    "    ydata[a] = randrange(5)\n",
    "    ydata[b] = randrange(5)"
   ]
  },
  {
   "cell_type": "markdown",
   "metadata": {},
   "source": [
    "### Code"
   ]
  },
  {
   "cell_type": "code",
   "execution_count": 78,
   "metadata": {},
   "outputs": [],
   "source": [
    "graph = [(1,3,10),(3,2,20),(2,1,30)]\n",
    "gy = [20,10,30]\n",
    "#(from,to,val)\n",
    "V_NB = 3\n",
    "E_NB = 3\n",
    "\n",
    "V_Range = range(0,V_NB)\n",
    "E_Range = range(0,E_NB)\n",
    "\n",
    "vals = {}\n",
    "vals[(0,2)] = 10\n",
    "vals[(2,1)] = 20\n",
    "vals[(1,0)] = 30\n",
    "\n",
    "valsy = [0 for e in V_Range]"
   ]
  },
  {
   "cell_type": "code",
   "execution_count": 79,
   "metadata": {},
   "outputs": [],
   "source": [
    "#vals = xdata\n",
    "#valsy = ydata"
   ]
  },
  {
   "cell_type": "code",
   "execution_count": 87,
   "metadata": {},
   "outputs": [
    {
     "name": "stdout",
     "output_type": "stream",
     "text": [
      "Warning: Duplicate variable name: 0 already used for 0\n",
      "Warning: Duplicate variable name: 0 already used for 0\n",
      "Model: FraudGraph\n",
      " - number of variables: 6\n",
      "   - binary=0, integer=0, continuous=6\n",
      " - number of constraints: 7\n",
      "   - linear=7\n",
      " - parameters: defaults\n",
      " - objective: maximize\n",
      " - problem type is: LP\n",
      "objective: 1.000\n",
      "  x_0_2=0.333\n",
      "  x_2_1=0.333\n",
      "  x_1_0=0.333\n",
      "  0=0.333\n",
      "  0=0.333\n",
      "  0=0.333\n"
     ]
    }
   ],
   "source": [
    "def a(i):\n",
    "    return \"y_\"+i\n",
    "\n",
    "m = Model(name='FraudGraph')\n",
    "#x = m.integer_var_matrix(V_Range, E_Range, lambda ij: \"x_%d_%d\" %(ij[0], ij[1]))\n",
    "x = m.continuous_var_dict(vals,lb=0,name='x')\n",
    "#x = m.continuous_var_matrix(V_NB, E_NB, lambda ij: \"x_%d_%d\" %(ij[0], ij[1]))\n",
    "y = m.continuous_var_list(valsy,lb=0,key_format=lambda i: \"x_%d\" %(i[0]))\n",
    "#y = m.continuous_var_list(valsy,lb=0,name=\"y\")\n",
    "\n",
    "c1 = m.add_constraints(x[(i,j)] <=y[i] for (i,j) in x)\n",
    "c2 = m.add_constraints(x[(i,j)] <=y[j] for (i,j) in x)\n",
    "\n",
    "#A check si pas m.sum\n",
    "c3 = m.add_constraint( np.sum(y) <= 1)\n",
    "#c3 = m.add_constraint( m.sum(y[i] <= 1 for i in V_Range))\n",
    "\n",
    "\n",
    "#Deux condition fait par ub et lb\n",
    "#c4 = m.add_constraint( y[i] >= 0 for i in V_Range)\n",
    "#c5 = m.add_constraint( x[i,j] >= 0 for i in V_Range for j in E_Range)\n",
    "\n",
    "#m.set_objective(\"min\", 3*x)\n",
    "m.maximize( m.sum(x[(i,j)] for (i,j) in x))\n",
    "\n",
    "\n",
    "m.print_information()\n",
    "m.solve()\n",
    "m.print_solution()"
   ]
  }
 ],
 "metadata": {
  "interpreter": {
   "hash": "a4e0272d1eda76f48fd2102d45e160b1841ad044681d89fde38422672f30818c"
  },
  "kernelspec": {
   "display_name": "Python 3.8.3 64-bit ('base': conda)",
   "language": "python",
   "name": "python3"
  },
  "language_info": {
   "codemirror_mode": {
    "name": "ipython",
    "version": 3
   },
   "file_extension": ".py",
   "mimetype": "text/x-python",
   "name": "python",
   "nbconvert_exporter": "python",
   "pygments_lexer": "ipython3",
   "version": "3.8.3"
  },
  "orig_nbformat": 4
 },
 "nbformat": 4,
 "nbformat_minor": 2
}
