{
 "cells": [
  {
   "cell_type": "code",
   "execution_count": 1,
   "metadata": {},
   "outputs": [],
   "source": [
    "#%pip install networkx==1.11\n",
    "#%pip uninstall networkx && pip install networkx\n",
    "#%pip install scipy"
   ]
  },
  {
   "cell_type": "markdown",
   "metadata": {},
   "source": [
    "# FBox\n",
    "\n",
    "A fix : probleme il prend toujours le dernier sinon rien\n",
    "et bcp de probleme avec matlab voir commentaires"
   ]
  },
  {
   "cell_type": "code",
   "execution_count": 2,
   "metadata": {},
   "outputs": [],
   "source": [
    "import networkx as nx\n",
    "import numpy as np\n",
    "import matplotlib.pyplot as plt\n",
    "\n",
    "\n",
    "from scipy.sparse import csr_matrix, lil_matrix\n",
    "from scipy.sparse.csgraph import connected_components\n",
    "from scipy.sparse import csc_matrix\n",
    "from scipy.sparse.linalg import svds, eigs\n",
    "from scipy.io import savemat, loadmat\n",
    "import os\n",
    "\n",
    "import pylab"
   ]
  },
  {
   "cell_type": "code",
   "execution_count": 3,
   "metadata": {},
   "outputs": [],
   "source": [
    "def plot_graph(A):\n",
    "    G = nx.DiGraph()\n",
    "    for count,value in enumerate(A):\n",
    "        for count2, value2 in enumerate(value):\n",
    "            if (value2 != 0):\n",
    "                G.add_edges_from([(str(count), str(count2))], weight=value2)\n",
    "\n",
    "    edge_labels=dict([((u,v,),d['weight'])\n",
    "                    for u,v,d in G.edges(data=True)])\n",
    "\n",
    "    pos=nx.spring_layout(G)\n",
    "    \n",
    "    nx.draw_networkx_edge_labels(G,pos,edge_labels=edge_labels)\n",
    "    nx.draw(G,pos,edge_cmap=plt.cm.Reds,with_labels = True)\n",
    "    #nx.draw(G,pos,edge_cmap=plt.cm.Reds,with_labels = True,connectionstyle='arc3, rad = 0.3')\n",
    "    pylab.show()"
   ]
  },
  {
   "cell_type": "code",
   "execution_count": 4,
   "metadata": {},
   "outputs": [],
   "source": [
    "#==========   Initialisation\n",
    "pcthresh = 1\n",
    "degthresh = 2\n",
    "neigs = 3#Utilite enleve\n",
    "\n",
    "#[!] Il check ligne ou colonne (car matlab inverse)??? actuellement ligne ???\n",
    "graph = [\n",
    "    [0, 5 ,2 ,4],\n",
    "    [1, 0, 5, 3],\n",
    "    [ 5 ,5 ,5, 0],\n",
    "    [ 0, 0, 0, 0],\n",
    "]\n",
    "\n",
    "graph = np.array(graph)\n",
    "#graph = np.transpose(graph)\n",
    "#graph[graph>0] = 1\n",
    "\n",
    "adj = csc_matrix(graph, dtype=float)\n",
    "#A = csc_matrix([[1, 0, 0], [5, 0, 2], [0, -1, 0], [0, 0, 3]], dtype=float)"
   ]
  },
  {
   "cell_type": "code",
   "execution_count": 5,
   "metadata": {},
   "outputs": [
    {
     "name": "stdout",
     "output_type": "stream",
     "text": [
      "  (1, 0)\t1.0\n",
      "  (2, 0)\t5.0\n",
      "  (0, 1)\t5.0\n",
      "  (2, 1)\t5.0\n",
      "  (0, 2)\t2.0\n",
      "  (1, 2)\t5.0\n",
      "  (2, 2)\t5.0\n",
      "  (0, 3)\t4.0\n",
      "  (1, 3)\t3.0\n",
      "attention les edges s overlap\n"
     ]
    },
    {
     "data": {
      "image/png": "[encoded data removed]",
      "text/plain": [
       "<Figure size 432x288 with 1 Axes>"
      ]
     },
     "metadata": {},
     "output_type": "display_data"
    }
   ],
   "source": [
    "#============ On affiche le graphe de liens\n",
    "\n",
    "print(adj)\n",
    "print(\"attention les edges s overlap\")\n",
    "plot_graph(graph)"
   ]
  },
  {
   "cell_type": "markdown",
   "metadata": {},
   "source": [
    "Probleme : A = graph ou A=adj"
   ]
  },
  {
   "cell_type": "code",
   "execution_count": 6,
   "metadata": {},
   "outputs": [],
   "source": [
    "#Le A de matlab est adj ou graph ???? (les deux marchent sous matlab mais res diff)\n",
    "A = adj.toarray()"
   ]
  },
  {
   "cell_type": "code",
   "execution_count": 11,
   "metadata": {},
   "outputs": [],
   "source": [
    "mat = loadmat('../data_out/data_amz.mat')\n",
    "adj = mat['M'].asfptype()\n",
    "adj = adj.transpose()"
   ]
  },
  {
   "cell_type": "markdown",
   "metadata": {},
   "source": [
    "# Implementation du code"
   ]
  },
  {
   "cell_type": "markdown",
   "metadata": {},
   "source": [
    "Code a partir de son algo ecris sur son papier"
   ]
  },
  {
   "cell_type": "code",
   "execution_count": 18,
   "metadata": {},
   "outputs": [],
   "source": [
    "def fbox(A, k, t):\n",
    "    userCulprits   = []\n",
    "    objectCulprits = []\n",
    "    outDegrees     = np.sum(A, 0)\n",
    "    inDegrees      = np.sum(A, 1)\n",
    "    U, S, V        = svds(A, k=k,which=\"LM\",return_singular_vectors=True)\n",
    "    \n",
    "\n",
    "    print(\"nb out degre 0 (5)\",outDegrees[0,1])# doit etre a 5\n",
    "    print(\"nb out degre 0 (1)\",inDegrees[1,0])# doit etre a 1\n",
    "\n",
    "\n",
    "    S = np.diag(S)#pour avoir une vrai matrice plutot qu'un vecteur\n",
    "    #print((U @ S).shape)\n",
    "    recOutDegs = np.square(np.linalg.norm( U @ S,axis=1))\n",
    "    recInDegs  = np.square(np.linalg.norm( np.transpose(V) @ S,axis=1))\n",
    "\n",
    "\n",
    "    #recOutDegs = np.square(np.linalg.norm(U*S, axis=1))\n",
    "    #recInDegs  = np.square(np.linalg.norm(np.transpose(V)*S, axis=1))\n",
    "\n",
    "    \n",
    "    uniqueOutDegrees = np.unique(np.array(outDegrees))\n",
    "    uniqueInDegrees  = np.unique(np.array(inDegrees))\n",
    "    \n",
    "\n",
    "    for od in uniqueOutDegrees:\n",
    "        nodeSet = np.where(uniqueOutDegrees == od)[0]\n",
    "        recOutDegSet = recOutDegs[nodeSet]\n",
    "        recThreshold = np.percentile(recOutDegSet, t)\n",
    "        for n in nodeSet:\n",
    "            if(recOutDegs[n] <= recThreshold):\n",
    "                userCulprits.append(n)\n",
    "                #userCulprits.append((n,recOutDegs[n]))\n",
    "            \n",
    "    for ind in uniqueInDegrees:\n",
    "        nodeSet = np.where(uniqueInDegrees == ind)[0]\n",
    "        recInDegSet = recInDegs[nodeSet]\n",
    "        recThreshold = np.percentile(recInDegSet, t)\n",
    "        for n in nodeSet:\n",
    "            if(recInDegs[n] <= recThreshold):\n",
    "                objectCulprits.append(n)\n",
    "                #objectCulprits.append((n,recInDegs[n]))\n",
    "    \n",
    "    return userCulprits, objectCulprits"
   ]
  },
  {
   "cell_type": "markdown",
   "metadata": {},
   "source": [
    "Code a partir de son matlab"
   ]
  },
  {
   "cell_type": "code",
   "execution_count": 24,
   "metadata": {},
   "outputs": [],
   "source": [
    "#https://stackoverflow.com/questions/24764966/numpy-percentile-function-different-from-matlabs-percentile-function\n",
    "def quantile(x,q):#Equivalent de np.quantile\n",
    "    n = len(x)\n",
    "    y = np.sort(x)\n",
    "    return(np.interp(q, np.linspace(1/(2*n), (2*n-1)/(2*n), n), y))\n",
    "\n",
    "def prctile(x,p):#Equivalent matlab\n",
    "    return(np.quantile(x,np.array(p)/100))\n",
    "\n",
    "def find(cond):#Equivalent matlab\n",
    "    return np.where(cond)\n",
    "\n",
    "#Version matlab de son algo\n",
    "def m_fbox(A, k, t):\n",
    "\n",
    "    U,S,V = svds(A,k=k,which=\"LM\",return_singular_vectors=True)\n",
    "    S = np.diag(S)\n",
    "    V = np.transpose(V)\n",
    "    \n",
    "    #On inverse l'ordre des colonnes et on multiplie par -1\n",
    "    U = -1 * np.fliplr(U)\n",
    "    V = -1 * np.fliplr(V)\n",
    "    S =  np.fliplr(S)\n",
    "    S = np.flipud(S)\n",
    "    \n",
    "    #Le check est bon (normalement)\n",
    "    #check = np.matmul(np.matmul(U,S),np.transpose(V))\n",
    "    #print(\"check: \",check)\n",
    "    #normalement check == A (a quelques arrondi de neigs pres)\n",
    "\n",
    "    indegs = np.sum(A,axis=0).A1#On retransforme la matrice sous forme array\n",
    "    outdegs = np.sum(A,axis=1).A1\n",
    "\n",
    "    rec_indegs = np.sum(np.matmul(V,S) ** 2,axis=1)#Meme que matlab\n",
    "    rec_outdegs = np.sum(np.matmul(U,S) ** 2,axis=1)#Meme que matlab\n",
    "\n",
    "\n",
    "    q = np.unique(np.array(indegs))\n",
    "    lq = len(q)\n",
    "\n",
    "    #On pourrait changer en array de tuple\n",
    "    trackpct_indegs = lil_matrix((lq,2))\n",
    "\n",
    "    for i in range(0,lq):\n",
    "        deg = q[i]\n",
    "        trackpct_indegs[i,0] = deg\n",
    "        indices = find(indegs == deg)\n",
    "        vsub = V[indices,:]\n",
    "        rdegs = np.sum( np.matmul(vsub,S) **2,axis=1)\n",
    "        trackpct_indegs[i,1] = prctile(rdegs,pcthresh)\n",
    "        \n",
    "\n",
    "    q = np.unique(np.array(outdegs))\n",
    "    lq = len(q)\n",
    "    trackpct_outdegs = lil_matrix((lq,2))\n",
    "    for i in range(0,lq):\n",
    "        deg = q[i]\n",
    "        trackpct_outdegs[i,0] = deg\n",
    "        indices = find(outdegs == deg)\n",
    "        usub = U[indices,:]\n",
    "        rdegs = np.sum( np.matmul(usub,S) **2,axis=1)\n",
    "        trackpct_outdegs[i,1] = prctile(rdegs,pcthresh)\n",
    "\n",
    "    \n",
    "    isub = find(indegs > degthresh)[0]\n",
    "    osub = find(outdegs > degthresh)[0]\n",
    "\n",
    "    iculprits = []\n",
    "    oculprits = []\n",
    "    \n",
    "    for node in isub:\n",
    "\n",
    "        f = find(trackpct_indegs[:,0].toarray() == indegs[node])[0]\n",
    "        if rec_indegs[node] < trackpct_indegs[f,1]:\n",
    "            iculprits.append((node,indegs[node]))\n",
    "\n",
    "\n",
    "    for node in osub:\n",
    "        f = find(trackpct_outdegs[:,0].toarray() == outdegs[node])[0]\n",
    "        if rec_outdegs[node] < trackpct_outdegs[f,1]:\n",
    "            oculprits.append((node,outdegs[node]))\n",
    "    \n",
    "\n",
    "    return iculprits,oculprits"
   ]
  },
  {
   "cell_type": "markdown",
   "metadata": {},
   "source": [
    "Test du fbox algo"
   ]
  },
  {
   "cell_type": "code",
   "execution_count": 20,
   "metadata": {},
   "outputs": [
    {
     "name": "stdout",
     "output_type": "stream",
     "text": [
      "nb out degre 0 (5) 5.0\n",
      "nb out degre 0 (1) 1.0\n",
      "user culprits :  6\n",
      "[0, 1, 2, 3, 4, 5]\n",
      "object culprits :  157\n",
      "[0, 1, 2, 3, 4, 5, 6, 7, 8, 9, 10, 11, 12, 13, 14, 15, 16, 17, 18, 19, 20, 21, 22, 23, 24, 25, 26, 27, 28, 29, 30, 31, 32, 33, 34, 35, 36, 37, 38, 39, 40, 41, 42, 43, 44, 45, 46, 47, 48, 49, 50, 51, 52, 53, 54, 55, 56, 57, 58, 59, 60, 61, 62, 63, 64, 65, 66, 67, 68, 69, 70, 71, 72, 73, 74, 75, 76, 77, 78, 79, 80, 81, 82, 83, 84, 85, 86, 87, 88, 89, 90, 91, 92, 93, 94, 95, 96, 97, 98, 99, 100, 101, 102, 103, 104, 105, 106, 107, 108, 109, 110, 111, 112, 113, 114, 115, 116, 117, 118, 119, 120, 121, 122, 123, 124, 125, 126, 127, 128, 129, 130, 131, 132, 133, 134, 135, 136, 137, 138, 139, 140, 141, 142, 143, 144, 145, 146, 147, 148, 149, 150, 151, 152, 153, 154, 155, 156]\n"
     ]
    }
   ],
   "source": [
    "pcthresh = 2\n",
    "neigs = 50\n",
    "\n",
    "\n",
    "userCulprits, objectCulprits = fbox(adj, neigs, pcthresh)\n",
    "print(\"user culprits : \",len(userCulprits))\n",
    "print(userCulprits)\n",
    "print(\"object culprits : \",len(objectCulprits))\n",
    "print(objectCulprits)"
   ]
  },
  {
   "cell_type": "markdown",
   "metadata": {},
   "source": [
    "test du fbox matlab"
   ]
  },
  {
   "cell_type": "code",
   "execution_count": null,
   "metadata": {},
   "outputs": [],
   "source": [
    "pcthresh = 0.3\n",
    "neigs = 50\n",
    "\n",
    "#Fait un resultat enorme (241k)\n",
    "userCulprits, objectCulprits = m_fbox(adj, neigs, pcthresh)\n",
    "print(\"user culprits : \",len(userCulprits))\n",
    "print(userCulprits)\n",
    "print(\"object culprits : \",len(objectCulprits))\n",
    "print(objectCulprits)"
   ]
  }
 ],
 "metadata": {
  "interpreter": {
   "hash": "24b9f9eea2b5f9120581b1f0b9e068145063a8129f7e286e3cd061ca2704afd3"
  },
  "kernelspec": {
   "display_name": "Python 3 (ipykernel)",
   "language": "python",
   "name": "python3"
  },
  "language_info": {
   "codemirror_mode": {
    "name": "ipython",
    "version": 3
   },
   "file_extension": ".py",
   "mimetype": "text/x-python",
   "name": "python",
   "nbconvert_exporter": "python",
   "pygments_lexer": "ipython3",
   "version": "3.9.7"
  }
 },
 "nbformat": 4,
 "nbformat_minor": 2
}
