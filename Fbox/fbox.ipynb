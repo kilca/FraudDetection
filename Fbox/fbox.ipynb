{
 "cells": [
  {
   "cell_type": "code",
   "execution_count": 551,
   "metadata": {},
   "outputs": [],
   "source": [
    "#%pip install networkx==1.11\n",
    "#%pip uninstall networkx && pip install networkx\n",
    "#%pip install scipy"
   ]
  },
  {
   "cell_type": "markdown",
   "metadata": {},
   "source": [
    "# FBox\n",
    "\n",
    "A fix : probleme il prend toujours le dernier sinon rien\n",
    "et bcp de probleme avec matlab voir commentaires"
   ]
  },
  {
   "cell_type": "code",
   "execution_count": 7,
   "metadata": {},
   "outputs": [],
   "source": [
    "import networkx as nx\n",
    "import numpy as np\n",
    "import matplotlib.pyplot as plt\n",
    "\n",
    "\n",
    "from scipy.sparse import csr_matrix\n",
    "from scipy.sparse.csgraph import connected_components\n",
    "from scipy.sparse import csc_matrix\n",
    "from scipy.sparse.linalg import svds, eigs\n",
    "import os\n",
    "\n",
    "import pylab"
   ]
  },
  {
   "cell_type": "code",
   "execution_count": 11,
   "metadata": {},
   "outputs": [],
   "source": [
    "def plot_graph(A):\n",
    "    G = nx.DiGraph()\n",
    "    for count,value in enumerate(A):\n",
    "        for count2, value2 in enumerate(value):\n",
    "            if (value2 != 0):\n",
    "                G.add_edges_from([(str(count), str(count2))], weight=value2)\n",
    "\n",
    "    edge_labels=dict([((u,v,),d['weight'])\n",
    "                    for u,v,d in G.edges(data=True)])\n",
    "\n",
    "    pos=nx.spring_layout(G)\n",
    "    \n",
    "    nx.draw_networkx_edge_labels(G,pos,edge_labels=edge_labels)\n",
    "    nx.draw(G,pos,edge_cmap=plt.cm.Reds,with_labels = True)\n",
    "    #nx.draw(G,pos,edge_cmap=plt.cm.Reds,with_labels = True,connectionstyle='arc3, rad = 0.3')\n",
    "    pylab.show()"
   ]
  },
  {
   "cell_type": "code",
   "execution_count": 12,
   "metadata": {},
   "outputs": [],
   "source": [
    "#==========   Initialisation\n",
    "pcthresh = 1\n",
    "degthresh = 2\n",
    "neigs = 4#Utilite enleve\n",
    "\n",
    "#[!] Il check ligne ou colonne (car matlab inverse)??? actuellement ligne ???\n",
    "graph = [\n",
    "    [0, 5 ,2 ,4],\n",
    "    [1, 0, 5, 3],\n",
    "    [ 5 ,5 ,5, 0],\n",
    "    [ 0, 0, 0, 0],\n",
    "]\n",
    "\n",
    "graph = np.array(graph)\n",
    "#graph = np.transpose(graph)\n",
    "#graph[graph>0] = 1\n",
    "\n",
    "adj = csc_matrix(graph, dtype=float)\n",
    "#A = csc_matrix([[1, 0, 0], [5, 0, 2], [0, -1, 0], [0, 0, 3]], dtype=float)"
   ]
  },
  {
   "cell_type": "code",
   "execution_count": 13,
   "metadata": {},
   "outputs": [
    {
     "name": "stdout",
     "output_type": "stream",
     "text": [
      "  (1, 0)\t1.0\n",
      "  (2, 0)\t5.0\n",
      "  (0, 1)\t5.0\n",
      "  (2, 1)\t5.0\n",
      "  (0, 2)\t2.0\n",
      "  (1, 2)\t5.0\n",
      "  (2, 2)\t5.0\n",
      "  (0, 3)\t4.0\n",
      "  (1, 3)\t3.0\n",
      "attention les edges s overlap\n"
     ]
    },
    {
     "data": {
      "image/png": "[encoded data removed]",
      "text/plain": [
       "<Figure size 432x288 with 1 Axes>"
      ]
     },
     "metadata": {},
     "output_type": "display_data"
    }
   ],
   "source": [
    "#============ On affiche le graphe de liens\n",
    "\n",
    "print(adj)\n",
    "print(\"attention les edges s overlap\")\n",
    "plot_graph(graph)"
   ]
  },
  {
   "cell_type": "markdown",
   "metadata": {},
   "source": [
    "Probleme : A = graph ou A=adj"
   ]
  },
  {
   "cell_type": "code",
   "execution_count": 66,
   "metadata": {},
   "outputs": [],
   "source": [
    "#Le A de matlab est adj ou graph ???? (les deux marchent sous matlab mais res diff)\n",
    "A = adj.toarray()"
   ]
  },
  {
   "cell_type": "code",
   "execution_count": 67,
   "metadata": {},
   "outputs": [],
   "source": [
    "#========= Fonction svd\n",
    "\n",
    "#Difference entre les deux : svds et svd quasi pareil\n",
    "#Matlab et python : matlab prend le max et fais pas le meme calcul que python (cf ci dessous)\n",
    "\n",
    "#https://stackoverflow.com/questions/50930899/svd-command-in-python-v-s-matlab\n",
    "def m_svds(A,neigs):\n",
    "    m,n = A.shape\n",
    "    U, sdiag, VH = np.linalg.svd(A)\n",
    "    S = np.zeros((m, n))\n",
    "    np.fill_diagonal(S, sdiag)\n",
    "    V = VH.T.conj()  # if you know you have real values only you can leave out the .conj()\n",
    "    return U,S,V\n",
    "\n",
    "#Ici S est le meme que celui de matlab mais u et v pas pareil\n",
    "def m_svds2(A,neigs):\n",
    "    m,n = A.shape\n",
    "    U,S,V = np.linalg.svd(A)\n",
    "    B = np.zeros(A.shape)\n",
    "    for i in range(m) :\n",
    "        for j in range(n) :\n",
    "            if i == j :\n",
    "                 B[i,j] = S[j]\n",
    "    return U,B,V\n",
    "\n",
    "#u, s, v = svds(A, k=neigs,which=\"LM\")\n",
    "u,s,v = m_svds2(A,neigs)\n",
    "\n",
    "#A check\n",
    "indegs = np.sum(A, 1-1)\n",
    "outdegs = np.sum(A, 2-1)\n",
    "rec_indegs = np.sum((v * s) ** 2, 2-1)\n",
    "rec_outdegs = np.sum((u * s) ** 2, 2-1)\n",
    "\n"
   ]
  },
  {
   "cell_type": "code",
   "execution_count": 68,
   "metadata": {},
   "outputs": [],
   "source": [
    "#========== Conversion matlab python\n",
    "\n",
    "def unique(a):\n",
    "    return np.unique(np.array(a))\n",
    "\n",
    "def sparse(a,b):\n",
    "    return np.zeros((a,b))\n",
    "\n",
    "def find(cond):\n",
    "    return np.where(cond)\n",
    "\n",
    "#A check\n",
    "def prctile(X,p):\n",
    "    return np.percentile(X,p)"
   ]
  },
  {
   "cell_type": "code",
   "execution_count": 69,
   "metadata": {},
   "outputs": [
    {
     "data": {
      "text/plain": [
       "'\\nindegs = indegs.tolist()[0]\\noutdegs = outdegs.tolist()[0]\\nrec_indegs = rec_indegs.tolist()\\nrec_outdegs = rec_outdegs.tolist()\\n\\nindegs = np.array(indegs)\\noutdegs = np.array(outdegs)\\n'"
      ]
     },
     "execution_count": 69,
     "metadata": {},
     "output_type": "execute_result"
    }
   ],
   "source": [
    "#Si A=graph car np casse les c**\n",
    "'''\n",
    "indegs = indegs.tolist()[0]\n",
    "outdegs = outdegs.tolist()[0]\n",
    "rec_indegs = rec_indegs.tolist()\n",
    "rec_outdegs = rec_outdegs.tolist()\n",
    "\n",
    "indegs = np.array(indegs)\n",
    "outdegs = np.array(outdegs)\n",
    "'''"
   ]
  },
  {
   "cell_type": "code",
   "execution_count": 70,
   "metadata": {},
   "outputs": [
    {
     "name": "stdout",
     "output_type": "stream",
     "text": [
      "number of susp i :  1\n",
      "[(3, 7.0)]\n",
      "number of susp o: 0\n",
      "[]\n"
     ]
    }
   ],
   "source": [
    "#========== Fonction culprits\n",
    "\n",
    "q = unique(indegs)\n",
    "lq = len(q)\n",
    "trackpct_indegs = sparse(lq,2)\n",
    "for i in range(0,lq):\n",
    "    deg = q[i]\n",
    "    trackpct_indegs[i,0] = deg\n",
    "    indices = find(indegs == deg)\n",
    "    vsub = v[indices,:]\n",
    "    rdegs = np.sum((vsub * s) ** 2, 2-1)\n",
    "    trackpct_indegs[i,1] = prctile(rdegs,pcthresh)\n",
    "\n",
    "q = unique(outdegs)\n",
    "lq = len(q)\n",
    "trackpct_outdegs = sparse(lq,2)\n",
    "for i in range(0,lq):\n",
    "    deg = q[i]\n",
    "    trackpct_outdegs[i,0] = deg\n",
    "    indices = find(outdegs == deg)\n",
    "    usub = u[indices,:]\n",
    "    rdegs = np.sum((usub * s) ** 2, 2-1)\n",
    "    trackpct_outdegs[i,1] = prctile(rdegs,pcthresh)\n",
    "\n",
    "nnodes = len(indegs)\n",
    "\n",
    "#On met [0] car il englobe dans des array ... encore\n",
    "isub = find(indegs > degthresh)[0]\n",
    "osub = find(outdegs > degthresh)[0]\n",
    "\n",
    "\n",
    "iculprits = []\n",
    "oculprits = []\n",
    "\n",
    "for node in isub:\n",
    "    cond1 =rec_indegs[node]\n",
    "    f = find(trackpct_indegs[:,0] == indegs[node])\n",
    "    f = f[0][0]#On enleve les liste de liste car il englobe ds array et sa casse les c**\n",
    "    cond2 =trackpct_indegs[f,1]\n",
    "    if  cond1<cond2 :\n",
    "        iculprits.append((node,indegs[node]))#Resultat de forme : (ind chelou,degre chelou)\n",
    "\n",
    "for node in osub:\n",
    "    cond1 = rec_outdegs[node]\n",
    "    f = find(trackpct_outdegs[:,0] == outdegs[node])\n",
    "    f = f[0][0]#On enleve les liste de liste car il englobe ds array et sa casse les c**\n",
    "    cond2 = trackpct_outdegs[f,1]\n",
    "    if cond1 < cond2:\n",
    "        oculprits.append((node,outdegs[node]))#Resultat de forme : (ind chelou,degre chelou)\n",
    "\n",
    "ictr = len(iculprits)\n",
    "octr = len(oculprits)\n",
    "\n",
    "print(\"number of susp i : \",ictr)\n",
    "print(iculprits)\n",
    "print(\"number of susp o:\",octr)\n",
    "print(oculprits)\n",
    "    "
   ]
  },
  {
   "cell_type": "markdown",
   "metadata": {},
   "source": [
    "# Pseudo-code implémentation"
   ]
  },
  {
   "cell_type": "code",
   "execution_count": 71,
   "metadata": {},
   "outputs": [
    {
     "ename": "ValueError",
     "evalue": "k must be between 1 and min(A.shape), k=4",
     "output_type": "error",
     "traceback": [
      "\u001b[0;31m---------------------------------------------------------------------------\u001b[0m",
      "\u001b[0;31mValueError\u001b[0m                                Traceback (most recent call last)",
      "\u001b[0;32m/tmp/ipykernel_7357/4237428785.py\u001b[0m in \u001b[0;36m<module>\u001b[0;34m\u001b[0m\n\u001b[1;32m     30\u001b[0m     \u001b[0;32mreturn\u001b[0m \u001b[0muserCulprits\u001b[0m\u001b[0;34m,\u001b[0m \u001b[0mobjectCulprits\u001b[0m\u001b[0;34m\u001b[0m\u001b[0;34m\u001b[0m\u001b[0m\n\u001b[1;32m     31\u001b[0m \u001b[0;34m\u001b[0m\u001b[0m\n\u001b[0;32m---> 32\u001b[0;31m \u001b[0muserCulprits\u001b[0m\u001b[0;34m,\u001b[0m \u001b[0mobjectCulprits\u001b[0m \u001b[0;34m=\u001b[0m \u001b[0mfbox\u001b[0m\u001b[0;34m(\u001b[0m\u001b[0madj\u001b[0m\u001b[0;34m,\u001b[0m \u001b[0mneigs\u001b[0m\u001b[0;34m,\u001b[0m \u001b[0mpcthresh\u001b[0m\u001b[0;34m)\u001b[0m\u001b[0;34m\u001b[0m\u001b[0;34m\u001b[0m\u001b[0m\n\u001b[0m\u001b[1;32m     33\u001b[0m \u001b[0mprint\u001b[0m\u001b[0;34m(\u001b[0m\u001b[0muserCulprits\u001b[0m\u001b[0;34m)\u001b[0m\u001b[0;34m\u001b[0m\u001b[0;34m\u001b[0m\u001b[0m\n\u001b[1;32m     34\u001b[0m \u001b[0mprint\u001b[0m\u001b[0;34m(\u001b[0m\u001b[0mobjectCulprits\u001b[0m\u001b[0;34m)\u001b[0m\u001b[0;34m\u001b[0m\u001b[0;34m\u001b[0m\u001b[0m\n",
      "\u001b[0;32m/tmp/ipykernel_7357/4237428785.py\u001b[0m in \u001b[0;36mfbox\u001b[0;34m(A, k, t)\u001b[0m\n\u001b[1;32m      4\u001b[0m     \u001b[0moutDegrees\u001b[0m     \u001b[0;34m=\u001b[0m \u001b[0mnp\u001b[0m\u001b[0;34m.\u001b[0m\u001b[0msum\u001b[0m\u001b[0;34m(\u001b[0m\u001b[0mA\u001b[0m\u001b[0;34m,\u001b[0m \u001b[0;36m0\u001b[0m\u001b[0;34m)\u001b[0m\u001b[0;34m\u001b[0m\u001b[0;34m\u001b[0m\u001b[0m\n\u001b[1;32m      5\u001b[0m     \u001b[0minDegrees\u001b[0m      \u001b[0;34m=\u001b[0m \u001b[0mnp\u001b[0m\u001b[0;34m.\u001b[0m\u001b[0msum\u001b[0m\u001b[0;34m(\u001b[0m\u001b[0mA\u001b[0m\u001b[0;34m,\u001b[0m \u001b[0;36m1\u001b[0m\u001b[0;34m)\u001b[0m\u001b[0;34m\u001b[0m\u001b[0;34m\u001b[0m\u001b[0m\n\u001b[0;32m----> 6\u001b[0;31m     \u001b[0mU\u001b[0m\u001b[0;34m,\u001b[0m \u001b[0mS\u001b[0m\u001b[0;34m,\u001b[0m \u001b[0mV\u001b[0m        \u001b[0;34m=\u001b[0m \u001b[0msvds\u001b[0m\u001b[0;34m(\u001b[0m\u001b[0mA\u001b[0m\u001b[0;34m,\u001b[0m \u001b[0mk\u001b[0m\u001b[0;34m)\u001b[0m\u001b[0;34m\u001b[0m\u001b[0;34m\u001b[0m\u001b[0m\n\u001b[0m\u001b[1;32m      7\u001b[0m \u001b[0;34m\u001b[0m\u001b[0m\n\u001b[1;32m      8\u001b[0m     \u001b[0mrecOutDegs\u001b[0m \u001b[0;34m=\u001b[0m \u001b[0mnp\u001b[0m\u001b[0;34m.\u001b[0m\u001b[0msquare\u001b[0m\u001b[0;34m(\u001b[0m\u001b[0mnp\u001b[0m\u001b[0;34m.\u001b[0m\u001b[0mlinalg\u001b[0m\u001b[0;34m.\u001b[0m\u001b[0mnorm\u001b[0m\u001b[0;34m(\u001b[0m\u001b[0mU\u001b[0m\u001b[0;34m*\u001b[0m\u001b[0mS\u001b[0m\u001b[0;34m,\u001b[0m \u001b[0maxis\u001b[0m\u001b[0;34m=\u001b[0m\u001b[0;36m1\u001b[0m\u001b[0;34m)\u001b[0m\u001b[0;34m)\u001b[0m\u001b[0;34m\u001b[0m\u001b[0;34m\u001b[0m\u001b[0m\n",
      "\u001b[0;32m~/.local/lib/python3.8/site-packages/scipy/sparse/linalg/eigen/arpack/arpack.py\u001b[0m in \u001b[0;36msvds\u001b[0;34m(A, k, ncv, tol, which, v0, maxiter, return_singular_vectors, solver)\u001b[0m\n\u001b[1;32m   1818\u001b[0m \u001b[0;34m\u001b[0m\u001b[0m\n\u001b[1;32m   1819\u001b[0m     \u001b[0;32mif\u001b[0m \u001b[0mk\u001b[0m \u001b[0;34m<=\u001b[0m \u001b[0;36m0\u001b[0m \u001b[0;32mor\u001b[0m \u001b[0mk\u001b[0m \u001b[0;34m>=\u001b[0m \u001b[0mmin\u001b[0m\u001b[0;34m(\u001b[0m\u001b[0mn\u001b[0m\u001b[0;34m,\u001b[0m \u001b[0mm\u001b[0m\u001b[0;34m)\u001b[0m\u001b[0;34m:\u001b[0m\u001b[0;34m\u001b[0m\u001b[0;34m\u001b[0m\u001b[0m\n\u001b[0;32m-> 1820\u001b[0;31m         \u001b[0;32mraise\u001b[0m \u001b[0mValueError\u001b[0m\u001b[0;34m(\u001b[0m\u001b[0;34m\"k must be between 1 and min(A.shape), k=%d\"\u001b[0m \u001b[0;34m%\u001b[0m \u001b[0mk\u001b[0m\u001b[0;34m)\u001b[0m\u001b[0;34m\u001b[0m\u001b[0;34m\u001b[0m\u001b[0m\n\u001b[0m\u001b[1;32m   1821\u001b[0m \u001b[0;34m\u001b[0m\u001b[0m\n\u001b[1;32m   1822\u001b[0m     \u001b[0;32mif\u001b[0m \u001b[0misinstance\u001b[0m\u001b[0;34m(\u001b[0m\u001b[0mA\u001b[0m\u001b[0;34m,\u001b[0m \u001b[0mLinearOperator\u001b[0m\u001b[0;34m)\u001b[0m\u001b[0;34m:\u001b[0m\u001b[0;34m\u001b[0m\u001b[0;34m\u001b[0m\u001b[0m\n",
      "\u001b[0;31mValueError\u001b[0m: k must be between 1 and min(A.shape), k=4"
     ]
    }
   ],
   "source": [
    "def fbox(A, k, t):\n",
    "    userCulprits   = np.empty(0)\n",
    "    objectCulprits = np.empty(0)\n",
    "    outDegrees     = np.sum(A, 0)\n",
    "    inDegrees      = np.sum(A, 1)\n",
    "    U, S, V        = svds(A, k)\n",
    "    \n",
    "    recOutDegs = np.square(np.linalg.norm(U*S, axis=1))\n",
    "    recInDegs  = np.square(np.linalg.norm(np.transpose(V)*S, axis=1))\n",
    "    \n",
    "    uniqueOutDegrees = np.unique(np.array(outDegrees))\n",
    "    uniqueInDegrees  = np.unique(np.array(inDegrees))\n",
    "    \n",
    "    for od in uniqueOutDegrees:\n",
    "        nodeSet = np.where(uniqueOutDegrees == od)[0]\n",
    "        recOutDegSet = recOutDegs[nodeSet]\n",
    "        recThreshold = np.percentile(recOutDegSet, t)\n",
    "        for n in nodeSet:\n",
    "            if(recOutDegs[n] <= recThreshold):\n",
    "                np.append(userCulprits, n)\n",
    "            \n",
    "    for ind in uniqueInDegrees:\n",
    "        nodeSet = np.where(uniqueInDegrees == ind)[0]\n",
    "        recInDegSet = recInDegs[nodeSet]\n",
    "        recThreshold = np.percentile(recInDegSet, t)\n",
    "        for n in nodeSet:\n",
    "            if(recInDegs[n] <= recThreshold):\n",
    "                np.append(objectCulprits, n)\n",
    "    \n",
    "    return userCulprits, objectCulprits\n",
    "\n",
    "userCulprits, objectCulprits = fbox(adj, neigs, pcthresh)\n",
    "print(userCulprits)\n",
    "print(objectCulprits)"
   ]
  },
  {
   "cell_type": "code",
   "execution_count": null,
   "metadata": {},
   "outputs": [],
   "source": []
  }
 ],
 "metadata": {
  "interpreter": {
   "hash": "24b9f9eea2b5f9120581b1f0b9e068145063a8129f7e286e3cd061ca2704afd3"
  },
  "kernelspec": {
   "display_name": "Python 3 (ipykernel)",
   "language": "python",
   "name": "python3"
  },
  "language_info": {
   "codemirror_mode": {
    "name": "ipython",
    "version": 3
   },
   "file_extension": ".py",
   "mimetype": "text/x-python",
   "name": "python",
   "nbconvert_exporter": "python",
   "pygments_lexer": "ipython3",
   "version": "3.8.10"
  }
 },
 "nbformat": 4,
 "nbformat_minor": 2
}
